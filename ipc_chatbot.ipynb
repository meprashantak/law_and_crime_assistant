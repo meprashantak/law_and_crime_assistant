{
  "nbformat": 4,
  "nbformat_minor": 0,
  "metadata": {
    "colab": {
      "provenance": []
    },
    "kernelspec": {
      "name": "python3",
      "display_name": "Python 3"
    },
    "language_info": {
      "name": "python"
    }
  },
  "cells": [
    {
      "cell_type": "markdown",
      "source": [],
      "metadata": {
        "id": "gepXrDSo_5D6"
      }
    },
    {
      "cell_type": "markdown",
      "source": [
        "📘 IPC Section Assistant (Bot 1)\n",
        "\n",
        "This mode helps you understand sections of the Indian Penal Code (IPC) in a clear, structured format.\n",
        "\n",
        "✅ What it provides:\n",
        "\n",
        "Section number\n",
        "\n",
        "Description of the section\n",
        "\n",
        "Nature of the offense\n",
        "\n",
        "Punishment under the law\n",
        "\n",
        "🧠 Example Questions:\n",
        "\n",
        "\"Explain IPC 302\"\n",
        "\n",
        "\"What is the punishment under IPC 375?\"\n",
        "\n",
        "\"Details of IPC 420\"\n",
        "\n",
        "⚖️ Ideal for:\n",
        "\n",
        "Students, legal aspirants, or anyone curious about Indian criminal laws.\n",
        "\n"
      ],
      "metadata": {
        "id": "v8EV_yQ81nW8"
      }
    },
    {
      "cell_type": "markdown",
      "source": [
        "🔐 Requirements Before You Start\n",
        "\n",
        "To use this chatbot, you’ll need to create free accounts and obtain API keys from the following services:\n",
        "\n",
        "1️⃣ Cohere API Key\n",
        "\n",
        "Used for understanding and answering questions about IPC sections.\n",
        "\n",
        "📍 Sign up at: https://dashboard.cohere.com\n",
        "\n",
        "🔑 Get your API key from the API Keys section after logging in\n",
        "\n",
        "2️⃣ Serper API Key\n",
        "\n",
        "Used for retrieving real-time news about crime cases from the web.\n",
        "\n",
        "📍 Sign up at: https://serper.dev\n",
        "\n",
        "🔑 Go to your Dashboard to copy your API key\n",
        "\n",
        "💡 How to Use the Keys:\n",
        "\n",
        "When prompted by the chatbot, paste your API key for each service.\n",
        "\n",
        "Your keys remain local in your program and are not shared externally."
      ],
      "metadata": {
        "id": "qdn3DMUE2mxa"
      }
    },
    {
      "cell_type": "code",
      "execution_count": null,
      "metadata": {
        "colab": {
          "base_uri": "https://localhost:8080/"
        },
        "id": "PtTTDrGj_tvM",
        "outputId": "14fcb905-6423-44d9-faaa-83cf3b14d8bc"
      },
      "outputs": [
        {
          "output_type": "stream",
          "name": "stdout",
          "text": [
            "Requirement already satisfied: faiss-cpu in /usr/local/lib/python3.11/dist-packages (1.11.0)\n",
            "Requirement already satisfied: numpy<3.0,>=1.25.0 in /usr/local/lib/python3.11/dist-packages (from faiss-cpu) (2.0.2)\n",
            "Requirement already satisfied: packaging in /usr/local/lib/python3.11/dist-packages (from faiss-cpu) (24.2)\n",
            "Requirement already satisfied: langchain in /usr/local/lib/python3.11/dist-packages (0.3.25)\n",
            "Requirement already satisfied: cohere in /usr/local/lib/python3.11/dist-packages (5.15.0)\n",
            "Requirement already satisfied: kagglehub in /usr/local/lib/python3.11/dist-packages (0.3.12)\n",
            "Requirement already satisfied: pandas in /usr/local/lib/python3.11/dist-packages (2.2.2)\n",
            "Requirement already satisfied: langchain-core<1.0.0,>=0.3.58 in /usr/local/lib/python3.11/dist-packages (from langchain) (0.3.63)\n",
            "Requirement already satisfied: langchain-text-splitters<1.0.0,>=0.3.8 in /usr/local/lib/python3.11/dist-packages (from langchain) (0.3.8)\n",
            "Requirement already satisfied: langsmith<0.4,>=0.1.17 in /usr/local/lib/python3.11/dist-packages (from langchain) (0.3.44)\n",
            "Requirement already satisfied: pydantic<3.0.0,>=2.7.4 in /usr/local/lib/python3.11/dist-packages (from langchain) (2.11.5)\n",
            "Requirement already satisfied: SQLAlchemy<3,>=1.4 in /usr/local/lib/python3.11/dist-packages (from langchain) (2.0.41)\n",
            "Requirement already satisfied: requests<3,>=2 in /usr/local/lib/python3.11/dist-packages (from langchain) (2.32.3)\n",
            "Requirement already satisfied: PyYAML>=5.3 in /usr/local/lib/python3.11/dist-packages (from langchain) (6.0.2)\n",
            "Requirement already satisfied: fastavro<2.0.0,>=1.9.4 in /usr/local/lib/python3.11/dist-packages (from cohere) (1.11.1)\n",
            "Requirement already satisfied: httpx>=0.21.2 in /usr/local/lib/python3.11/dist-packages (from cohere) (0.28.1)\n",
            "Requirement already satisfied: httpx-sse==0.4.0 in /usr/local/lib/python3.11/dist-packages (from cohere) (0.4.0)\n",
            "Requirement already satisfied: pydantic-core<3.0.0,>=2.18.2 in /usr/local/lib/python3.11/dist-packages (from cohere) (2.33.2)\n",
            "Requirement already satisfied: tokenizers<1,>=0.15 in /usr/local/lib/python3.11/dist-packages (from cohere) (0.21.1)\n",
            "Requirement already satisfied: types-requests<3.0.0,>=2.0.0 in /usr/local/lib/python3.11/dist-packages (from cohere) (2.32.0.20250602)\n",
            "Requirement already satisfied: typing_extensions>=4.0.0 in /usr/local/lib/python3.11/dist-packages (from cohere) (4.14.0)\n",
            "Requirement already satisfied: packaging in /usr/local/lib/python3.11/dist-packages (from kagglehub) (24.2)\n",
            "Requirement already satisfied: tqdm in /usr/local/lib/python3.11/dist-packages (from kagglehub) (4.67.1)\n",
            "Requirement already satisfied: numpy>=1.23.2 in /usr/local/lib/python3.11/dist-packages (from pandas) (2.0.2)\n",
            "Requirement already satisfied: python-dateutil>=2.8.2 in /usr/local/lib/python3.11/dist-packages (from pandas) (2.9.0.post0)\n",
            "Requirement already satisfied: pytz>=2020.1 in /usr/local/lib/python3.11/dist-packages (from pandas) (2025.2)\n",
            "Requirement already satisfied: tzdata>=2022.7 in /usr/local/lib/python3.11/dist-packages (from pandas) (2025.2)\n",
            "Requirement already satisfied: anyio in /usr/local/lib/python3.11/dist-packages (from httpx>=0.21.2->cohere) (4.9.0)\n",
            "Requirement already satisfied: certifi in /usr/local/lib/python3.11/dist-packages (from httpx>=0.21.2->cohere) (2025.4.26)\n",
            "Requirement already satisfied: httpcore==1.* in /usr/local/lib/python3.11/dist-packages (from httpx>=0.21.2->cohere) (1.0.9)\n",
            "Requirement already satisfied: idna in /usr/local/lib/python3.11/dist-packages (from httpx>=0.21.2->cohere) (3.10)\n",
            "Requirement already satisfied: h11>=0.16 in /usr/local/lib/python3.11/dist-packages (from httpcore==1.*->httpx>=0.21.2->cohere) (0.16.0)\n",
            "Requirement already satisfied: tenacity!=8.4.0,<10.0.0,>=8.1.0 in /usr/local/lib/python3.11/dist-packages (from langchain-core<1.0.0,>=0.3.58->langchain) (9.1.2)\n",
            "Requirement already satisfied: jsonpatch<2.0,>=1.33 in /usr/local/lib/python3.11/dist-packages (from langchain-core<1.0.0,>=0.3.58->langchain) (1.33)\n",
            "Requirement already satisfied: orjson<4.0.0,>=3.9.14 in /usr/local/lib/python3.11/dist-packages (from langsmith<0.4,>=0.1.17->langchain) (3.10.18)\n",
            "Requirement already satisfied: requests-toolbelt<2.0.0,>=1.0.0 in /usr/local/lib/python3.11/dist-packages (from langsmith<0.4,>=0.1.17->langchain) (1.0.0)\n",
            "Requirement already satisfied: zstandard<0.24.0,>=0.23.0 in /usr/local/lib/python3.11/dist-packages (from langsmith<0.4,>=0.1.17->langchain) (0.23.0)\n",
            "Requirement already satisfied: annotated-types>=0.6.0 in /usr/local/lib/python3.11/dist-packages (from pydantic<3.0.0,>=2.7.4->langchain) (0.7.0)\n",
            "Requirement already satisfied: typing-inspection>=0.4.0 in /usr/local/lib/python3.11/dist-packages (from pydantic<3.0.0,>=2.7.4->langchain) (0.4.1)\n",
            "Requirement already satisfied: six>=1.5 in /usr/local/lib/python3.11/dist-packages (from python-dateutil>=2.8.2->pandas) (1.17.0)\n",
            "Requirement already satisfied: charset-normalizer<4,>=2 in /usr/local/lib/python3.11/dist-packages (from requests<3,>=2->langchain) (3.4.2)\n",
            "Requirement already satisfied: urllib3<3,>=1.21.1 in /usr/local/lib/python3.11/dist-packages (from requests<3,>=2->langchain) (2.4.0)\n",
            "Requirement already satisfied: greenlet>=1 in /usr/local/lib/python3.11/dist-packages (from SQLAlchemy<3,>=1.4->langchain) (3.2.2)\n",
            "Requirement already satisfied: huggingface-hub<1.0,>=0.16.4 in /usr/local/lib/python3.11/dist-packages (from tokenizers<1,>=0.15->cohere) (0.32.4)\n",
            "Requirement already satisfied: filelock in /usr/local/lib/python3.11/dist-packages (from huggingface-hub<1.0,>=0.16.4->tokenizers<1,>=0.15->cohere) (3.18.0)\n",
            "Requirement already satisfied: fsspec>=2023.5.0 in /usr/local/lib/python3.11/dist-packages (from huggingface-hub<1.0,>=0.16.4->tokenizers<1,>=0.15->cohere) (2025.3.2)\n",
            "Requirement already satisfied: hf-xet<2.0.0,>=1.1.2 in /usr/local/lib/python3.11/dist-packages (from huggingface-hub<1.0,>=0.16.4->tokenizers<1,>=0.15->cohere) (1.1.2)\n",
            "Requirement already satisfied: jsonpointer>=1.9 in /usr/local/lib/python3.11/dist-packages (from jsonpatch<2.0,>=1.33->langchain-core<1.0.0,>=0.3.58->langchain) (3.0.0)\n",
            "Requirement already satisfied: sniffio>=1.1 in /usr/local/lib/python3.11/dist-packages (from anyio->httpx>=0.21.2->cohere) (1.3.1)\n"
          ]
        }
      ],
      "source": [
        "\n",
        "!pip install faiss-cpu\n",
        "# Make sure to install necessary packages\n",
        "!pip install langchain cohere kagglehub pandas"
      ]
    },
    {
      "cell_type": "code",
      "source": [
        "\n",
        "\n",
        "import os\n",
        "import kagglehub\n",
        "import pandas as pd\n",
        "from langchain_community.llms import Cohere\n",
        "from langchain.vectorstores import FAISS\n",
        "from langchain.embeddings import CohereEmbeddings\n",
        "from langchain.docstore.document import Document\n",
        "from langchain.chains import RetrievalQA\n",
        "\n",
        "#for creating prompt template\n",
        "from langchain.prompts import PromptTemplate\n",
        "from langchain.chains import LLMChain\n",
        "\n",
        "# Step 1: Get Cohere API key from user\n",
        "cohere_api_key = input(\"🔑 Enter your Cohere API key: \").strip()\n",
        "\n",
        "# Step 2: Download dataset from KaggleHub\n",
        "dataset_path = kagglehub.dataset_download(\"dev523/indian-penal-code-ipc-sections-information\")\n",
        "print(\"Downloaded dataset at:\", dataset_path)\n",
        "\n",
        "# Step 3: Read dataset using pandas\n",
        "csv_file = os.path.join(dataset_path, \"ipc_sections.csv\")  # Replace with actual file if different\n",
        "df = pd.read_csv(csv_file)\n",
        "print(df.columns)\n",
        "print(df.head())\n"
      ],
      "metadata": {
        "colab": {
          "base_uri": "https://localhost:8080/"
        },
        "id": "Xmao4L7RABjA",
        "outputId": "77e05203-2400-4b22-cd64-0d58defa00cc"
      },
      "execution_count": null,
      "outputs": [
        {
          "output_type": "stream",
          "name": "stdout",
          "text": [
            "🔑 Enter your Cohere API key: tu0ftMJVAifNZHNUesdRRudZr7yX5zD6mtN06LpR\n",
            "Downloaded dataset at: /kaggle/input/indian-penal-code-ipc-sections-information\n",
            "Index(['Description', 'Offense', 'Punishment', 'Section'], dtype='object')\n",
            "                                         Description  \\\n",
            "0  Description of IPC Section 140\\nAccording to s...   \n",
            "1  Description of IPC Section 127\\nAccording to s...   \n",
            "2  Description of IPC Section 128\\nAccording to s...   \n",
            "3  Description of IPC Section 129\\nAccording to s...   \n",
            "4  Description of IPC Section 130\\nAccording to s...   \n",
            "\n",
            "                                             Offense  \\\n",
            "0  Wearing the dress or carrying any token used b...   \n",
            "1  Receiving property taken by war or depredation...   \n",
            "2  Public servant voluntarily allowing prisoner o...   \n",
            "3  Public servant negligently suffering prisoner ...   \n",
            "4  Aiding escape of, rescuing or harbouring, such...   \n",
            "\n",
            "                                 Punishment  Section  \n",
            "0                  3 Months or Fine or Both  IPC_140  \n",
            "1   7 Years + Fine + forfeiture of property  IPC_127  \n",
            "2  Imprisonment for Life or 10 Years + Fine  IPC_128  \n",
            "3        Simple Imprisonment 3 Years + Fine  IPC_129  \n",
            "4  Imprisonment for Life or 10 Years + Fine  IPC_130  \n"
          ]
        }
      ]
    },
    {
      "cell_type": "code",
      "source": [
        "\n",
        "# Combine all rows into one text block (or create multiple documents if preferred)\n",
        "documents = []\n",
        "\n",
        "\n",
        "for _, row in df.iterrows():\n",
        "    section_text = (\n",
        "        f\"Section {str(row.get('Section', '')).strip()}\\n\\n\"\n",
        "        f\"Description:\\n{str(row.get('Description', '')).strip()}\\n\\n\"\n",
        "        f\"Offense:\\n{str(row.get('Offense', '')).strip()}\\n\\n\"\n",
        "        f\"Punishment:\\n{str(row.get('Punishment', '')).strip()}\"\n",
        "    )\n",
        "    documents.append(Document(page_content=section_text))\n",
        "\n"
      ],
      "metadata": {
        "id": "jBMmcFeOD3dZ"
      },
      "execution_count": null,
      "outputs": []
    },
    {
      "cell_type": "code",
      "source": [
        "\n",
        "\n",
        "\n",
        "# Step 4: Initialize Cohere embeddings\n",
        "embeddings = CohereEmbeddings(\n",
        "    cohere_api_key=cohere_api_key,\n",
        "    user_agent=\"ipc_qa_bot/1.0\"\n",
        ")\n",
        "\n",
        "# Step 5: Create vector store\n",
        "vectorstore = FAISS.from_documents(documents, embeddings)\n",
        "\n",
        "# Step 6: Initialize Cohere LLM\n",
        "llm = Cohere(cohere_api_key=cohere_api_key, model=\"command\")\n",
        "\n",
        "\n",
        "prompt_template = PromptTemplate(\n",
        "    input_variables=[\"context\", \"question\"],\n",
        "    template=\"\"\"\n",
        "You are a legal assistant specializing in the Indian Penal Code (IPC). Use the following structured data context to answer the user's question in a **clear and structured format**.\n",
        "\n",
        "Each IPC section includes in separate line:\n",
        "- Section: IPC section number\n",
        "- Description: Explanation of the section\n",
        "- Offense: Nature of the offense\n",
        "- Punishment: Penalties associated with the offense\n",
        "\n",
        "Respond by clearly organizing the answer under the following headings:\n",
        "\n",
        "Section:\n",
        "Description:\n",
        "Offense:\n",
        "Punishment:\n",
        "\n",
        "Context:\n",
        "{context}\n",
        "\n",
        "Question:\n",
        "{question}\n",
        "\n",
        "Structured Answer:\n",
        "\"\"\"\n",
        ")\n",
        "\n",
        "\n",
        "# Step 8: Build RetrievalQA with custom prompt\n",
        "qa_chain = RetrievalQA.from_chain_type(\n",
        "    llm=llm,\n",
        "    retriever=vectorstore.as_retriever(),\n",
        "    chain_type=\"stuff\",\n",
        "    chain_type_kwargs={\"prompt\": prompt_template}\n",
        ")\n",
        "\n",
        "# Step 9: Chat loop\n",
        "print(\"\\nAsk questions about the Indian Penal Code (type 'exit' to quit):\")\n",
        "while True:\n",
        "    query = input(\"Question:(type exit if you want to exit) \")\n",
        "    if query.lower() == \"exit\":\n",
        "        print(\"Goodbye!\")\n",
        "        break\n",
        "    response = qa_chain.run(query)\n",
        "    print(f\"Answer: {response}\\n\")\n"
      ],
      "metadata": {
        "colab": {
          "base_uri": "https://localhost:8080/"
        },
        "id": "2PnMmezWEN0I",
        "outputId": "e15cda82-8863-4d95-f1d5-a3e920d7f470"
      },
      "execution_count": null,
      "outputs": [
        {
          "output_type": "stream",
          "name": "stdout",
          "text": [
            "\n",
            "Ask questions about the Indian Penal Code (type 'exit' to quit):\n",
            "Question:(type exit if you want to exit) section 234\n",
            "Answer:  Section: IPC 234\n",
            "Description: Manufacturing, dealing with instruments for counterfeiting Indian coins\n",
            "Offense: Making, mending, buying, selling Instruments for the purpose of counterfeiting Indian coin\n",
            "Punishment: 7 Years + Fine\n",
            "\n",
            "Question:(type exit if you want to exit) rape\n",
            "Answer:  \n",
            "```\n",
            "Section: IPC_375\n",
            "Description: Committing rape, which involves non-consensual sexual activity including penetration, object insertion, manipulation of body parts, or using mouth, against a woman's will, without her consent, or in cases where she is unable to communicate consent or is under 18 years of age.\n",
            "Offense: Rape\n",
            "Punishment: Penalties associated with the offense include rigorous imprisonment for a term which shall not be less than twenty years, but which may extend to life which shall mean imprisonment for the remainder of that person's natural life, and with fine;\n",
            "Section: IPC_376D\n",
            "Description: When a woman is raped by a group of people acting together\n",
            "Offense: Gang rape\n",
            "Punishment: Rigorous Imprisonment for 20 years to Imprisonment for Natural-Life + Fine paid to the victim\n",
            "Section: IPC_376DA\n",
            "Description: Rape of a woman under sixteen years of age by a group acting together\n",
            "Offense: Gang rape of a minor\n",
            "Punishment: Imprisonment for Life + Fine\n",
            "Section: IPC_377\n",
            "Description: Un lawful sexual intercourse with a man ,woman or animal\n",
            "Offense: Unnatural offences\n",
            "Punishment\n",
            "\n",
            "Question:(type exit if you want to exit) exit\n",
            "Goodbye!\n"
          ]
        }
      ]
    },
    {
      "cell_type": "markdown",
      "source": [],
      "metadata": {
        "id": "53-ILu1I1HGU"
      }
    },
    {
      "cell_type": "markdown",
      "source": [
        "📰 Case News Assistant (Bot 2)\n",
        "\n",
        "This model helps you get summarized, up-to-date information about real crime cases that are currently being discussed in India or globally.\n",
        "\n",
        "🔍 What it can do:\n",
        "\n",
        "Find recent news articles about real-world criminal cases (e.g., rape, murder, scams).\n",
        "\n",
        "\n",
        "Provide a brief summary of the case based on available news.\n",
        "\n",
        "Show 2–3 recent developments or headlines in bullet points.\n",
        "\n",
        "Include clickable links to trusted sources.\n",
        "\n",
        "✅ Example Questions:\n",
        "\n",
        "\"Delhi minor rape case\"\n",
        "\n",
        "\"What’s the latest in Shraddha Walkar murder case?\"\n",
        "\n",
        "\"News about Manipur violence\"\n",
        "\n",
        "\"Bangalore child kidnapping incident\"\n",
        "\n",
        "\"Arrest in Kanjhawala case\"\n",
        "\n",
        "🧠 How it works:\n",
        "\n",
        "Uses the Serper API (powered by Google News) to search for real-time news.\n",
        "\n",
        "A language model (LLM) extracts:\n",
        "\n",
        "What the case is about\n",
        "\n",
        "Latest updates (in bullet points with links)\n",
        "\n",
        "⚠️ Limitations:\n",
        "\n",
        "Relies on publicly available news—older or less-known cases might return limited data.\n",
        "\n",
        "Doesn’t access government crime databases or court judgments."
      ],
      "metadata": {
        "id": "iNnwdg9b0wqp"
      }
    },
    {
      "cell_type": "code",
      "source": [
        "from langchain.utilities import GoogleSerperAPIWrapper\n",
        "from langchain.agents import Tool, initialize_agent, AgentType\n",
        "\n",
        "# Prompt user for SERPER key\n",
        "serper_api_key = input(\"🔑 Enter your Serper API key: \").strip()\n",
        "\n",
        "# Initialize wrapper with explicit key\n",
        "news_wrapper = GoogleSerperAPIWrapper(serper_api_key=serper_api_key)\n",
        "\n",
        "# Define the Tool using the wrapper\n",
        "news_tool = Tool(\n",
        "    name=\"News Search\",\n",
        "    func=news_wrapper.run,\n",
        "    description=\"Searches for real-time news articles about specific crime cases using Google News\"\n",
        ")\n",
        "\n",
        "# Initialize agent with tool + LLM\n",
        "agent = initialize_agent(\n",
        "    tools=[news_tool],\n",
        "    llm=llm,  # already initialized Cohere model\n",
        "    agent=AgentType.ZERO_SHOT_REACT_DESCRIPTION,\n",
        "    verbose=False,\n",
        "    handle_parsing_errors=True\n",
        ")\n"
      ],
      "metadata": {
        "colab": {
          "base_uri": "https://localhost:8080/"
        },
        "id": "cLJ7ItMKp3f3",
        "outputId": "af08f1ae-b411-45be-facd-a0840af2bc8f"
      },
      "execution_count": null,
      "outputs": [
        {
          "name": "stdout",
          "output_type": "stream",
          "text": [
            "🔑 Enter your Serper API key: c2f65ea4b9e2b93ff34d4c4dd647535ad6e2a149\n"
          ]
        }
      ]
    },
    {
      "cell_type": "code",
      "source": [
        "print(\"\\nAsk about specific crime cases to get recent news (type 'exit' to quit):\")\n",
        "while True:\n",
        "    query = input(\"Question: \")\n",
        "    if query.lower() == \"exit\":\n",
        "        print(\"Goodbye!\")\n",
        "        break\n",
        "\n",
        "    print(\"🔎 Searching for recent news related to the case...\")\n",
        "    try:\n",
        "        # chnged this template as it was taking to much credit\n",
        "        # response = agent.run(f\"\"\"\n",
        "        # Summarize what the case \"{query}\" is about in 1–2 lines, followed by  recent news updates related to it.\n",
        "        # Present the news in bullet points. Each point should include a short summary and a clickable link to the source.\n",
        "        # \"\"\"\n",
        "        # )\n",
        "\n",
        "        response = agent.run(f\"\"\"\n",
        "        Summarize what the case \"{query}\" is about in 1–2 lines\n",
        "        \"\"\"\n",
        "        )\n",
        "\n",
        "    except Exception as e:\n",
        "        response = f\"⚠️ Error fetching news: {e}\"\n",
        "\n",
        "    print(f\"\\n🧠 Answer:\\n{response}\\n\")\n"
      ],
      "metadata": {
        "colab": {
          "base_uri": "https://localhost:8080/"
        },
        "id": "1zYRpbZFp7p3",
        "outputId": "8e7cdd16-5376-4780-de21-d3e0a6b6dbee"
      },
      "execution_count": null,
      "outputs": [
        {
          "output_type": "stream",
          "name": "stdout",
          "text": [
            "\n",
            "Ask about specific crime cases to get recent news (type 'exit' to quit):\n",
            "Question: Shraddha Murder Case\n",
            "🔎 Searching for recent news related to the case...\n",
            "\n",
            "🧠 Answer:\n",
            "The \"Shraddha Murder Case\" is about a mysterious murder of a woman, Shraddha, in Delhi that involves a man, Aftab, who allegedly committed the murder and is still under investigation for the motive and reason behind it.\n",
            "\n",
            "Question: exit\n",
            "Goodbye!\n"
          ]
        }
      ]
    },
    {
      "cell_type": "code",
      "source": [
        "print(\"\"\"\n",
        "Welcome! 👋\n",
        "\n",
        "What would you like to explore today?\n",
        "\n",
        "1️⃣ IPC Sections — Learn about Indian Penal Code laws (e.g., IPC 302, IPC 375)\n",
        "2️⃣ Real-World Crime Cases — Get recent news and updates on crime cases (e.g., Delhi minor rape case)\n",
        "\n",
        "\"\"\")\n",
        "\n",
        "mode = input(\"Type 'ipc' for IPC sections or 'case' for real-world cases: \").strip().lower()\n",
        "\n",
        "if mode == \"ipc\":\n",
        "    print(\"\\nYou selected IPC mode. Ask about IPC sections (e.g., 'Explain IPC 375'):\")\n",
        "    while True:\n",
        "        query = input(\"Question: \")\n",
        "        if query.lower() == \"exit\":\n",
        "            print(\"Goodbye!\")\n",
        "            break\n",
        "        try:\n",
        "            response = qa_chain.run(query)\n",
        "        except Exception as e:\n",
        "            response = f\"⚠️ Error: {e}\"\n",
        "        print(f\"\\n🧠 Answer:\\n{response}\\n\")\n",
        "\n",
        "elif mode == \"case\":\n",
        "    print(\"\\nYou selected Case News mode. Ask about real-world crime cases (e.g., 'Delhi rape case'):\")\n",
        "    while True:\n",
        "        query = input(\"Question: \")\n",
        "        if query.lower() == \"exit\":\n",
        "            print(\"Goodbye!\")\n",
        "            break\n",
        "        try:\n",
        "            print(\"🔎 Searching for recent news...\")\n",
        "            response = agent.run(\n",
        "                f\"\"\"Summarize what the case \"{query}\" is about in 1–2 lines, followed by 2–3 recent news updates.\n",
        "Return the news in bullet points with clickable links.\"\"\"\n",
        "            )\n",
        "        except Exception as e:\n",
        "            response = f\"⚠️ Error fetching news: {e}\"\n",
        "        print(f\"\\n🧠 Answer:\\n{response}\\n\")\n",
        "\n",
        "else:\n",
        "    print(\"❌ Invalid choice. Please restart the program and type 'ipc' or 'case'.\")\n"
      ],
      "metadata": {
        "id": "REOPDk7_zvsr"
      },
      "execution_count": null,
      "outputs": []
    }
  ]
}